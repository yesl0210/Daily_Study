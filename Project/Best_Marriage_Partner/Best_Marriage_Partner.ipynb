{
 "cells": [
  {
   "cell_type": "code",
   "execution_count": 18,
   "metadata": {},
   "outputs": [],
   "source": [
    "import pandas as pd\n",
    "import numpy as np\n",
    "from collections import Counter\n",
    "import matplotlib.pyplot as plt\n",
    "from sklearn.preprocessing import LabelEncoder\n",
    "from sklearn.preprocessing import MinMaxScaler\n",
    "from sklearn.decomposition import PCA\n",
    "from sklearn.model_selection import train_test_split\n",
    "from sklearn.grid_search import GridSearchCV\n",
    "import warnings\n",
    "\n",
    "warnings.filterwarnings('ignore')"
   ]
  },
  {
   "cell_type": "code",
   "execution_count": 19,
   "metadata": {},
   "outputs": [
    {
     "name": "stdout",
     "output_type": "stream",
     "text": [
      "Index(['age', 'job', 'marital', 'education', 'default', 'balance', 'housing',\n",
      "       'loan', 'contact', 'day', 'month', 'duration', 'campaign', 'pdays',\n",
      "       'previous', 'poutcome', 'y'],\n",
      "      dtype='object')\n"
     ]
    }
   ],
   "source": [
    "df = pd.read_csv('bank-full.csv', sep=';') # 45211\n",
    "print(df.columns)"
   ]
  },
  {
   "cell_type": "code",
   "execution_count": 20,
   "metadata": {},
   "outputs": [
    {
     "name": "stdout",
     "output_type": "stream",
     "text": [
      "Index(['age', 'job', 'marital', 'education', 'default', 'housing', 'loan',\n",
      "       'balance'],\n",
      "      dtype='object')\n",
      "45211\n"
     ]
    }
   ],
   "source": [
    "# Data Preprocessing\n",
    "# 1) Data Restructuring - Table Vertical Decomposition\n",
    "# Delete unusable columns\n",
    "columns = ['age', 'job', 'marital', 'education', 'default', 'housing', 'loan','balance']\n",
    "df = df[columns]\n",
    "df = df.astype({\"age\":int,\"balance\": float})\n",
    "df = df[df.marital != 'divorced']\n",
    "\n",
    "print(df.columns)\n",
    "print(len(df))"
   ]
  },
  {
   "cell_type": "code",
   "execution_count": 22,
   "metadata": {},
   "outputs": [
    {
     "data": {
      "image/png": "[encoded data removed]",
      "text/plain": [
       "<Figure size 432x288 with 1 Axes>"
      ]
     },
     "metadata": {},
     "output_type": "display_data"
    }
   ],
   "source": [
    "import matplotlib.pyplot as plt\n",
    "data = df[\"balance\"].values\n",
    "plt.boxplot(np.array(data).astype(np.float))\n",
    "plt.show()"
   ]
  },
  {
   "cell_type": "code",
   "execution_count": 12,
   "metadata": {},
   "outputs": [
    {
     "name": "stdout",
     "output_type": "stream",
     "text": [
      "* Missing data before removal *\n",
      "Total data :  45211\n",
      "* Missing data after removal *\n",
      "Total data :  43193\n",
      "* data before removing redundancy * 42498\n",
      "* data after removing redundancy * 38476\n",
      "    age           job   marital  education default housing loan  balance\n",
      "0    58    management   married   tertiary      no     yes   no   2143.0\n",
      "1    44    technician    single  secondary      no     yes   no     29.0\n",
      "2    33  entrepreneur   married  secondary      no     yes  yes      2.0\n",
      "5    35    management   married   tertiary      no     yes   no    231.0\n",
      "6    28    management    single   tertiary      no     yes  yes    447.0\n",
      "7    42  entrepreneur  divorced   tertiary     yes     yes   no      2.0\n",
      "8    58       retired   married    primary      no     yes   no    121.0\n",
      "9    43    technician    single  secondary      no     yes   no    593.0\n",
      "10   41        admin.  divorced  secondary      no     yes   no    270.0\n",
      "11   29        admin.    single  secondary      no     yes   no    390.0\n"
     ]
    }
   ],
   "source": [
    "# 2) Data Restructuring - Data Value Changes\n",
    "# Cleaning dirty data \n",
    "\n",
    "# Missing Data -> Change \"unknown\" to NaN\n",
    "df = df.replace('unknown',np.nan)\n",
    "print(\"* Missing data before removal *\")\n",
    "print(\"Total data : \",len(df))\n",
    "df.isnull().sum()\n",
    "df = df.dropna() # Delete Missing Data\n",
    "print(\"* Missing data after removal *\")\n",
    "print(\"Total data : \",len(df))\n",
    "df.isnull().sum() # Check Missing Data\n",
    "\n",
    "# Outliers\n",
    "df = df[df[\"balance\"]<=40000]\n",
    "df = df[df[\"balance\"]>=-500]\n",
    "\n",
    "# Delete Redundancy\n",
    "print(\"* data before removing redundancy *\",len(df))\n",
    "df = df.drop_duplicates()\n",
    "print(\"* data after removing redundancy *\",len(df))\n",
    "print(df.head(10))"
   ]
  },
  {
   "cell_type": "code",
   "execution_count": 13,
   "metadata": {},
   "outputs": [
    {
     "name": "stdout",
     "output_type": "stream",
     "text": [
      "0        1\n",
      "1        2\n",
      "2        1\n",
      "5        1\n",
      "6        2\n",
      "7        0\n",
      "8        1\n",
      "9        2\n",
      "10       0\n",
      "11       2\n",
      "12       1\n",
      "14       1\n",
      "15       1\n",
      "17       1\n",
      "18       1\n",
      "19       1\n",
      "20       1\n",
      "21       1\n",
      "22       2\n",
      "23       1\n",
      "24       1\n",
      "25       1\n",
      "26       2\n",
      "27       1\n",
      "28       2\n",
      "29       2\n",
      "30       1\n",
      "31       1\n",
      "32       1\n",
      "33       1\n",
      "        ..\n",
      "45156    1\n",
      "45161    1\n",
      "45164    1\n",
      "45165    1\n",
      "45166    2\n",
      "45167    1\n",
      "45169    1\n",
      "45170    2\n",
      "45171    2\n",
      "45176    1\n",
      "45177    0\n",
      "45179    1\n",
      "45187    2\n",
      "45188    2\n",
      "45190    1\n",
      "45191    0\n",
      "45192    2\n",
      "45196    2\n",
      "45197    2\n",
      "45198    1\n",
      "45199    2\n",
      "45200    1\n",
      "45201    1\n",
      "45202    2\n",
      "45203    2\n",
      "45205    2\n",
      "45206    1\n",
      "45207    0\n",
      "45209    1\n",
      "45210    1\n",
      "Name: marital, Length: 38476, dtype: int64\n"
     ]
    }
   ],
   "source": [
    "# 3) Feature Engineering - Feature Creation\n",
    "# Label Encoding\n",
    "from sklearn.preprocessing import LabelEncoder\n",
    "labelEncoder = LabelEncoder()\n",
    "labelEncoder.fit(df['job'])\n",
    "df['job'] = labelEncoder.transform(df['job'])\n",
    "\n",
    "labelEncoder.fit(df['marital'])\n",
    "df['marital'] = labelEncoder.transform(df['marital'])\n",
    "\n",
    "labelEncoder.fit(df['education'])\n",
    "df['education'] = labelEncoder.transform(df['education'])\n",
    "\n",
    "labelEncoder.fit(df['default'])\n",
    "df['default'] = labelEncoder.transform(df['default'])\n",
    "\n",
    "labelEncoder.fit(df['housing'])\n",
    "df['housing'] = labelEncoder.transform(df['housing'])\n",
    "\n",
    "labelEncoder.fit(df['loan'])\n",
    "df['loan'] = labelEncoder.transform(df['loan'])\n",
    "\n",
    "feature = df.drop(columns=['marital'])\n",
    "label = df[\"marital\"]\n",
    "print(label)"
   ]
  },
  {
   "cell_type": "code",
   "execution_count": 14,
   "metadata": {},
   "outputs": [
    {
     "name": "stdout",
     "output_type": "stream",
     "text": [
      "[[0.51948052 0.4        1.         ... 1.         0.         0.06626551]\n",
      " [0.33766234 0.9        0.5        ... 1.         0.         0.01326313]\n",
      " [0.19480519 0.2        0.5        ... 1.         1.         0.01258619]\n",
      " ...\n",
      " [0.68831169 0.5        0.         ... 0.         0.         0.05588567]\n",
      " [0.50649351 0.1        0.5        ... 0.         0.         0.02928419]\n",
      " [0.24675325 0.2        0.5        ... 0.         0.         0.0870252 ]]\n"
     ]
    }
   ],
   "source": [
    "# Data value changes - Normalization\n",
    "from sklearn.preprocessing import MinMaxScaler\n",
    "scaler = MinMaxScaler()\n",
    "feature = scaler.fit_transform(feature)\n",
    "print(feature)"
   ]
  },
  {
   "cell_type": "code",
   "execution_count": 15,
   "metadata": {},
   "outputs": [
    {
     "name": "stdout",
     "output_type": "stream",
     "text": [
      "[[0.19480519 0.2        0.5        ... 0.         1.         0.01118215]\n",
      " [0.48051948 0.4        1.         ... 0.         0.         0.02615018]\n",
      " [0.22077922 0.4        1.         ... 1.         0.         0.08745142]\n",
      " ...\n",
      " [0.15584416 0.7        1.         ... 1.         0.         0.01268647]\n",
      " [0.45454545 0.1        0.         ... 0.         0.         0.15301492]\n",
      " [0.48051948 0.6        0.5        ... 1.         0.         0.07789896]]\n"
     ]
    }
   ],
   "source": [
    "# split dataset into train and test\n",
    "from sklearn.model_selection import train_test_split\n",
    "\n",
    "x_train, x_test, y_train, y_test= train_test_split(feature,label, test_size=0.3, random_state=0)\n",
    "print(x_train)"
   ]
  },
  {
   "cell_type": "code",
   "execution_count": 16,
   "metadata": {},
   "outputs": [],
   "source": [
    "# 3) Feature Engineering - Feature Reduction\n",
    "# PCA\n",
    "from sklearn.decomposition import PCA\n",
    "pca = PCA(n_components=4) # 7 columns -> 4 columns\n",
    "x_train = pca.fit_transform(x_train)\n",
    "print(x_train)"
   ]
  },
  {
   "cell_type": "code",
   "execution_count": null,
   "metadata": {},
   "outputs": [],
   "source": []
  },
  {
   "cell_type": "code",
   "execution_count": 17,
   "metadata": {},
   "outputs": [
    {
     "name": "stdout",
     "output_type": "stream",
     "text": [
      "* Decision Tree *\n",
      "Best Parameter : DecisionTreeClassifier(class_weight=None, criterion='gini', max_depth=5,\n",
      "            max_features=None, max_leaf_nodes=40,\n",
      "            min_impurity_decrease=0.0, min_impurity_split=None,\n",
      "            min_samples_leaf=1, min_samples_split=2,\n",
      "            min_weight_fraction_leaf=0.0, presort=False, random_state=30,\n",
      "            splitter='best')\n",
      "High Score : 0.6666542902758698\n"
     ]
    }
   ],
   "source": [
    "# Decision Tree\n",
    "\n",
    "from sklearn.tree import DecisionTreeClassifier\n",
    "\n",
    "decision_param = {'criterion' : ['gini', 'entropy'],\n",
    "                  'min_samples_split' : [2, 10, 20],\n",
    "                 'max_depth' : [1, 5, 10, 15],\n",
    "                  'min_samples_leaf' : [1, 5, 10],\n",
    "                  'max_leaf_nodes' : [5, 10, 20, 30, 40, 50],\n",
    "                 'random_state' : [30, 50, 100]}\n",
    "\n",
    "# Build three classifier\n",
    "decision = DecisionTreeClassifier()\n",
    "\n",
    "# Bulid GridSearchCV which find the parameter combination with the highest score\n",
    "grid_decision = GridSearchCV(decision, param_grid = decision_param, scoring = 'accuracy', cv = 5)\n",
    "\n",
    "# Training Decision Tree GridSearchCV\n",
    "grid_decision.fit(x_train, y_train)\n",
    "\n",
    "# The highest score and the best parameter combination\n",
    "print(\"* Decision Tree *\")\n",
    "print(\"Best Parameter :\", grid_decision.best_estimator_) # return the best combination parameter\n",
    "print(\"High Score :\", grid_decision.best_score_) # return the best parameter with the highest score\n",
    "\n",
    "# Test GridSearchCV using test data set\n",
    "y_pred_decision = grid_decision.best_estimator_.predict(x_test)"
   ]
  },
  {
   "cell_type": "code",
   "execution_count": null,
   "metadata": {},
   "outputs": [],
   "source": []
  },
  {
   "cell_type": "code",
   "execution_count": null,
   "metadata": {
    "scrolled": true
   },
   "outputs": [],
   "source": [
    "# Logistic Regression\n",
    "\n",
    "from sklearn.linear_model import LogisticRegression\n",
    "\n",
    "# Logistic Regression Parameter\n",
    "logistic_param = {'solver' : ['liblinear', 'lbfgs', 'sag'],\n",
    "                  'max_iter' : [50, 100, 200]}\n",
    "\n",
    "# Build logisticRegression classifier\n",
    "logistic = LogisticRegression()\n",
    "\n",
    "# Bulid GridSearchCV which find the parameter combination with the highest score\n",
    "grid_logistic = GridSearchCV(logistic, param_grid = logistic_param, scoring = 'accuracy', cv = 10)\n",
    "\n",
    "# Training Decision Tree GridSearchCV\n",
    "grid_logistic.fit(x_train, y_train)\n",
    "\n",
    "# The highest score and the best parameter combination\n",
    "print(\"\\n* Logistic Regression *\")\n",
    "print(\"Best Parameter :\", grid_logistic.best_estimator_) # return the best combination parameter\n",
    "print(\"High Score :\", grid_logistic.best_score_) # return the best parameter with the highest score\n",
    "\n",
    "# Test GridSearchCV using test data set\n",
    "y_pred_logistic = grid_logistic.best_estimator_.predict(x_test)"
   ]
  },
  {
   "cell_type": "code",
   "execution_count": 178,
   "metadata": {},
   "outputs": [
    {
     "name": "stdout",
     "output_type": "stream",
     "text": [
      "\n",
      "* SVM *\n",
      "Best Parameter : SVC(C=1.0, cache_size=200, class_weight=None, coef0=0.0,\n",
      "  decision_function_shape='ovr', degree=3, gamma=100, kernel='rbf',\n",
      "  max_iter=-1, probability=False, random_state=None, shrinking=True,\n",
      "  tol=0.001, verbose=False)\n",
      "High Score : 0.7555742887249737\n"
     ]
    }
   ],
   "source": [
    "# SVM\n",
    "\n",
    "from sklearn.svm import SVC\n",
    "from sklearn.grid_search import GridSearchCV\n",
    "\n",
    "svm_param = {'kernel' : ['linear','rbf','sigmoid'],\n",
    "                 'gamma' : [10, 100],\n",
    "                 'C' : [0.1, 1.0, 10.0]}\n",
    "\n",
    "# Build svm classifier\n",
    "svm = SVC()\n",
    "\n",
    "# Bulid GridSearchCV which find the parameter combination with the highest score\n",
    "grid_svm = GridSearchCV(svm, param_grid = svm_param, scoring = 'accuracy', cv = 10)\n",
    "\n",
    "# Training Decision Tree GridSearchCV\n",
    "grid_svm.fit(x_train, y_train)\n",
    "\n",
    "# The highest score and the best parameter combination\n",
    "print(\"\\n* SVM *\")\n",
    "print(\"Best Parameter :\", grid_svm.best_estimator_) # return the best combination parameter\n",
    "print(\"High Score :\", grid_svm.best_score_) # return the best parameter with the highest score\n",
    "\n",
    "# Test GridSearchCV using test data set\n",
    "y_pred_svm = grid_svm.best_estimator_.predict(x_test)"
   ]
  },
  {
   "cell_type": "code",
   "execution_count": 180,
   "metadata": {},
   "outputs": [
    {
     "name": "stdout",
     "output_type": "stream",
     "text": [
      "11505\n",
      "10169\n"
     ]
    }
   ],
   "source": []
  },
  {
   "cell_type": "code",
   "execution_count": 23,
   "metadata": {
    "scrolled": true
   },
   "outputs": [
    {
     "name": "stdout",
     "output_type": "stream",
     "text": [
      "** Decision Tree **\n",
      "             precision    recall  f1-score   support\n",
      "\n",
      "    class 0       0.50      0.00      0.00      1355\n",
      "    class 1       0.67      0.89      0.77      6911\n",
      "    class 2       0.64      0.46      0.54      3277\n",
      "\n",
      "avg / total       0.64      0.66      0.61     11543\n",
      "\n"
     ]
    }
   ],
   "source": [
    "# Score\n",
    "from sklearn.metrics import classification_report\n",
    "import matplotlib.pyplot as plt\n",
    "\n",
    "print(\"** Decision Tree **\")\n",
    "print(classification_report(y_test, y_pred_decision, target_names=['class 0', 'class 1', 'class 2']))\n",
    "\n",
    "print(\"** Logistic Regression **\")\n",
    "print(classification_report(y_test, y_pred_logistic, target_names=['class 0', 'class 1', 'class 2']))\n",
    "\n",
    "print(\"** SVM **\")\n",
    "print(classification_report(y_test, y_pred_svm, target_names=['class 0', 'class 1', 'class 2']))\n",
    "\n",
    "score = []\n",
    "score.append(grid_decision.best_score_)\n",
    "score.append(grid_logistic.best_score_)\n",
    "score.append(grid_svm.best_score_)\n",
    "\n",
    "classifier = ['Decision Tree', 'Logistic Regression', 'SVM']\n",
    "plt.bar(classifier, score)\n",
    "plt.show()"
   ]
  },
  {
   "cell_type": "code",
   "execution_count": 24,
   "metadata": {
    "scrolled": true
   },
   "outputs": [
    {
     "name": "stdout",
     "output_type": "stream",
     "text": [
      "[[   2 1263   90]\n",
      " [   2 6167  742]\n",
      " [   0 1772 1505]]\n"
     ]
    }
   ],
   "source": [
    "# Confusion Matrix\n",
    "from sklearn.metrics import confusion_matrix\n",
    "print(confusion_matrix(y_test, y_pred_decision))\n",
    "print(confusion_matrix(y_test, y_pred_logistic))\n",
    "print(confusion_matrix(y_test, y_pred_svm))"
   ]
  },
  {
   "cell_type": "code",
   "execution_count": null,
   "metadata": {},
   "outputs": [],
   "source": []
  }
 ],
 "metadata": {
  "kernelspec": {
   "display_name": "Python 3",
   "language": "python",
   "name": "python3"
  },
  "language_info": {
   "codemirror_mode": {
    "name": "ipython",
    "version": 3
   },
   "file_extension": ".py",
   "mimetype": "text/x-python",
   "name": "python",
   "nbconvert_exporter": "python",
   "pygments_lexer": "ipython3",
   "version": "3.6.5"
  }
 },
 "nbformat": 4,
 "nbformat_minor": 2
}
