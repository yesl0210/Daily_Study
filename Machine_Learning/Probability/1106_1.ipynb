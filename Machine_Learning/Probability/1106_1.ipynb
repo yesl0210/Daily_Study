{
 "cells": [
  {
   "cell_type": "code",
   "execution_count": 1,
   "metadata": {},
   "outputs": [],
   "source": [
    "import numpy as np\n",
    "import pandas as pd\n",
    "import warnings"
   ]
  },
  {
   "cell_type": "code",
   "execution_count": 37,
   "metadata": {},
   "outputs": [
    {
     "name": "stdout",
     "output_type": "stream",
     "text": [
      "   play Golf   Outlook  Temp Humidity   Wind\n",
      "0         no     rainy   hot     high  False\n",
      "1         no     rainy   hot     high   True\n",
      "2        yes  overcast   hot     high  False\n",
      "3        yes     sunny  mild     high  False\n",
      "4        yes     sunny  cool   normal  False\n",
      "5         no     sunny  cool   normal   True\n",
      "6        yes  overcast  cool   normal   True\n",
      "7         no     rainy  mild     high  False\n",
      "8        yes     rainy  cool   normal  False\n",
      "9        yes     sunny  mild   normal  False\n",
      "10       yes     rainy  mild   normal   True\n",
      "11       yes  overcast  mild     high   True\n",
      "12       yes  overcast   hot   normal  False\n",
      "13        no     sunny  mild     high   True\n",
      "14        no     sunny  cool   normal   True\n",
      "15       yes  overcast  cool   normal   True\n",
      "16        no     rainy  mild     high  False\n",
      "17       yes  overcast   hot     high  False\n",
      "18       yes     rainy  mild   normal   True\n",
      "19       yes  overcast  mild     high   True\n"
     ]
    }
   ],
   "source": [
    "df = pd.read_csv('play_golf.csv')\n",
    "print(df)"
   ]
  },
  {
   "cell_type": "code",
   "execution_count": 46,
   "metadata": {},
   "outputs": [
    {
     "name": "stdout",
     "output_type": "stream",
     "text": [
      "    play Golf  Outlook  Temp  Humidity  Wind\n",
      "0           0        1     1         0     0\n",
      "1           0        1     1         0     1\n",
      "2           1        0     1         0     0\n",
      "3           1        2     2         0     0\n",
      "4           1        2     0         1     0\n",
      "5           0        2     0         1     1\n",
      "6           1        0     0         1     1\n",
      "7           0        1     2         0     0\n",
      "8           1        1     0         1     0\n",
      "9           1        2     2         1     0\n",
      "10          1        1     2         1     1\n",
      "11          1        0     2         0     1\n",
      "12          1        0     1         1     0\n",
      "13          0        2     2         0     1\n",
      "14          0        2     0         1     1\n",
      "15          1        0     0         1     1\n",
      "16          0        1     2         0     0\n",
      "17          1        0     1         0     0\n",
      "18          1        1     2         1     1\n",
      "19          1        0     2         0     1\n"
     ]
    }
   ],
   "source": [
    "# import LabelEncoder\n",
    "from sklearn import preprocessing\n",
    "\n",
    "#create labelEncoder\n",
    "labelE = preprocessing.LabelEncoder()\n",
    "\n",
    "# Convert String labels into numbers.\n",
    "df['play Golf'] = labelE.fit_transform(df['play Golf'])\n",
    "df['Outlook'] = labelE.fit_transform(df['Outlook'])\n",
    "df['Temp'] = labelE.fit_transform(df['Temp'])\n",
    "df['Humidity'] = labelE.fit_transform(df['Humidity'])\n",
    "df['Wind'] = labelE.fit_transform(df['Wind'])\n",
    "\n",
    "new = [2, 0, 0, 0] # 'sunny', 'cool', 'high', 'false'\n",
    "print(df)"
   ]
  },
  {
   "cell_type": "code",
   "execution_count": 45,
   "metadata": {},
   "outputs": [
    {
     "name": "stdout",
     "output_type": "stream",
     "text": [
      "When input : [Outlook=sunny, Temperature=cool, Humidity=high, Wind=false]\n",
      "'PlayGolf - No' is predicted\n"
     ]
    }
   ],
   "source": [
    "# Split data int features and label\n",
    "features = df.drop(['play Golf'],axis=1)\n",
    "label = df['play Golf']\n",
    "\n",
    "\n",
    "# import Gaussian Naive Bayes model\n",
    "from sklearn.naive_bayes import GaussianNB\n",
    "\n",
    "# Create a Gaussian Classifier\n",
    "model =GaussianNB()\n",
    "\n",
    "# Train the model using the training sets\n",
    "model.fit(features, label)\n",
    "\n",
    "# Predict Output\n",
    "predicted = model.predict([new])\n",
    "\n",
    "print(\"When input : [Outlook=sunny, Temperature=cool, Humidity=high, Wind=false]\")\n",
    "if(predicted == 1) : print(\"'PlayGolf - Yes' is predicted\")\n",
    "elif(predicted == 0) : print(\"'PlayGolf - No' is predicted\")"
   ]
  },
  {
   "cell_type": "code",
   "execution_count": null,
   "metadata": {},
   "outputs": [],
   "source": []
  },
  {
   "cell_type": "code",
   "execution_count": null,
   "metadata": {},
   "outputs": [],
   "source": []
  }
 ],
 "metadata": {
  "kernelspec": {
   "display_name": "Python 3",
   "language": "python",
   "name": "python3"
  },
  "language_info": {
   "codemirror_mode": {
    "name": "ipython",
    "version": 3
   },
   "file_extension": ".py",
   "mimetype": "text/x-python",
   "name": "python",
   "nbconvert_exporter": "python",
   "pygments_lexer": "ipython3",
   "version": "3.6.5"
  }
 },
 "nbformat": 4,
 "nbformat_minor": 2
}
