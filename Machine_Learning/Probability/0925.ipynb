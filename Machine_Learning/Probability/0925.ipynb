{
 "cells": [
  {
   "cell_type": "code",
   "execution_count": 1,
   "metadata": {},
   "outputs": [],
   "source": [
    "import numpy as np"
   ]
  },
  {
   "cell_type": "code",
   "execution_count": 37,
   "metadata": {},
   "outputs": [
    {
     "name": "stdout",
     "output_type": "stream",
     "text": [
      "SDR :  9.321086474291743\n",
      "7.782030583337487\n",
      "10.870142593360953\n",
      "3.491060010942235\n"
     ]
    }
   ],
   "source": [
    "hours = [25, 30, 46, 45, 52, 23, 43, 35, 38, 46, 48, 52, 44, 30]\n",
    "rain = [25,30,35,38,48]\n",
    "sunny = [45, 52, 23, 46,30]\n",
    "overcast = [46, 43, 52, 44]\n",
    "SDR = np.std(hours)\n",
    "print(\"SDR : \",SDR)\n",
    "print(np.std(rain))\n",
    "print(np.std(sunny))\n",
    "print(np.std(overcast))"
   ]
  },
  {
   "cell_type": "code",
   "execution_count": 38,
   "metadata": {},
   "outputs": [
    {
     "name": "stdout",
     "output_type": "stream",
     "text": [
      "Outlook Std :  7.6589361376615095 SDR :  1.6621503366302335\n",
      "rain CV :  22.10804142993604\n",
      "sunny CV :  27.72995559530855\n",
      "overcast CV :  7.548237861496725\n"
     ]
    }
   ],
   "source": [
    "S_outlook = len(overcast)/len(hours)*np.std(overcast) + len(rain)/len(hours)*np.std(rain)+ len(sunny)/len(hours)*np.std(sunny)\n",
    "print(\"Outlook Std : \",S_outlook, \"SDR : \", SDR - S_outlook)\n",
    "\n",
    "rain_cv = 100*np.std(rain)/np.mean(rain)\n",
    "sunny_cv = 100*np.std(sunny)/np.mean(sunny)\n",
    "overcast_cv = 100*np.std(overcast)/np.mean(overcast)\n",
    "print(\"rain CV : \", rain_cv)\n",
    "print(\"sunny CV : \", sunny_cv)\n",
    "print(\"overcast CV : \", overcast_cv)"
   ]
  },
  {
   "cell_type": "code",
   "execution_count": 39,
   "metadata": {},
   "outputs": [
    {
     "name": "stdout",
     "output_type": "stream",
     "text": [
      "Temp Std :  8.841395899528422 SDR :  0.4796905747633211\n",
      "cool CV :  26.953584668754665\n",
      "hot CV :  24.702751294582505\n",
      "mild CV :  17.934750442576558\n"
     ]
    }
   ],
   "source": [
    "# Temp\n",
    "cool = [52,23,43,38]\n",
    "hot = [25,30,46,44]\n",
    "mild = [45, 35, 46,48,52,30]\n",
    "S_temp = len(cool)/len(hours)*np.std(cool) + len(hot)/len(hours)*np.std(hot)+ len(mild)/len(hours)*np.std(mild)\n",
    "print(\"Temp Std : \",S_temp, \"SDR : \", SDR - S_temp)\n",
    "\n",
    "cool_cv = 100*np.std(cool)/np.mean(cool)\n",
    "hot_cv = 100*np.std(hot)/np.mean(hot)\n",
    "mild_cv = 100*np.std(mild)/np.mean(mild)\n",
    "print(\"cool CV : \", cool_cv)\n",
    "print(\"hot CV : \", hot_cv)\n",
    "print(\"mild CV : \", mild_cv)"
   ]
  },
  {
   "cell_type": "code",
   "execution_count": 40,
   "metadata": {},
   "outputs": [
    {
     "name": "stdout",
     "output_type": "stream",
     "text": [
      "Humidity Std :  9.048790278801917 SDR :  0.272296195489826\n",
      "high CV :  24.921626780492684\n",
      "normal CV :  20.795641316507176\n"
     ]
    }
   ],
   "source": [
    "# Humidity\n",
    "high = [25,30,46,45,35,52,30]\n",
    "normal = [52,23,43,38,46,48,44 ]\n",
    "S_humidity = len(high)/len(hours)*np.std(high) + len(normal)/len(hours)*np.std(normal)\n",
    "print(\"Humidity Std : \",S_humidity, \"SDR : \", SDR - S_humidity)\n",
    "\n",
    "high_cv = 100*np.std(high)/np.mean(high)\n",
    "normal_cv = 100*np.std(normal)/np.mean(normal)\n",
    "print(\"high CV : \", high_cv)\n",
    "print(\"normal CV : \", normal_cv)"
   ]
  },
  {
   "cell_type": "code",
   "execution_count": 41,
   "metadata": {},
   "outputs": [
    {
     "name": "stdout",
     "output_type": "stream",
     "text": [
      "Windy Std :  9.038937093734411 SDR :  0.28214938055733185\n",
      "false CV :  19.028436551057084\n",
      "true CV :  28.124333773576467\n"
     ]
    }
   ],
   "source": [
    "# Windy\n",
    "false = [25,46,45,52, 35,38,46, 44]\n",
    "true = [30,23,43,48,52,30 ]\n",
    "S_windy = len(false)/len(hours)*np.std(false) + len(true)/len(hours)*np.std(true)\n",
    "print(\"Windy Std : \",S_windy, \"SDR : \", SDR - S_windy)\n",
    "\n",
    "false_cv = 100*np.std(false)/np.mean(false)\n",
    "true_cv = 100*np.std(true)/np.mean(true)\n",
    "print(\"false CV : \", false_cv)\n",
    "print(\"true CV : \", true_cv)"
   ]
  },
  {
   "cell_type": "code",
   "execution_count": null,
   "metadata": {},
   "outputs": [],
   "source": []
  }
 ],
 "metadata": {
  "kernelspec": {
   "display_name": "Python 3",
   "language": "python",
   "name": "python3"
  },
  "language_info": {
   "codemirror_mode": {
    "name": "ipython",
    "version": 3
   },
   "file_extension": ".py",
   "mimetype": "text/x-python",
   "name": "python",
   "nbconvert_exporter": "python",
   "pygments_lexer": "ipython3",
   "version": "3.6.5"
  }
 },
 "nbformat": 4,
 "nbformat_minor": 2
}
