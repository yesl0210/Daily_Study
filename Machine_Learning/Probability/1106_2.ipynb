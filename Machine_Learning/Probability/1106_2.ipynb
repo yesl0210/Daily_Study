{
 "cells": [
  {
   "cell_type": "code",
   "execution_count": 5,
   "metadata": {},
   "outputs": [],
   "source": [
    "import numpy as np\n",
    "import pandas as pd\n",
    "import warnings"
   ]
  },
  {
   "cell_type": "code",
   "execution_count": 17,
   "metadata": {},
   "outputs": [
    {
     "name": "stdout",
     "output_type": "stream",
     "text": [
      "   university         dad         mom child\n",
      "0       enter  university        high   boy\n",
      "1        none  university  university   boy\n",
      "2       enter        high        high   boy\n",
      "3       enter  university        high   boy\n",
      "4        none        high  university  girl\n",
      "5       enter  university  university  girl\n",
      "6       enter  university        high  girl\n",
      "7       enter  university  university   boy\n",
      "8       enter  university  university   boy\n",
      "9       enter        high  university  girl\n",
      "10       none  university  university  girl\n",
      "11      enter  university        high   boy\n",
      "12       none        high        high  girl\n",
      "13       none  university  university   boy\n",
      "14      enter        high        high   boy\n",
      "15      enter        high  university   boy\n",
      "16      enter  university  university   boy\n",
      "17       none        high        high  girl\n",
      "18      enter        high  university  girl\n",
      "19      enter  university  university   boy\n"
     ]
    }
   ],
   "source": [
    "df = pd.read_csv('go_university.csv')\n",
    "print(df)"
   ]
  },
  {
   "cell_type": "code",
   "execution_count": 26,
   "metadata": {},
   "outputs": [
    {
     "name": "stdout",
     "output_type": "stream",
     "text": [
      "    university  dad  mom  child\n",
      "0            0    1    0      0\n",
      "1            1    1    1      0\n",
      "2            0    0    0      0\n",
      "3            0    1    0      0\n",
      "4            1    0    1      1\n",
      "5            0    1    1      1\n",
      "6            0    1    0      1\n",
      "7            0    1    1      0\n",
      "8            0    1    1      0\n",
      "9            0    0    1      1\n",
      "10           1    1    1      1\n",
      "11           0    1    0      0\n",
      "12           1    0    0      1\n",
      "13           1    1    1      0\n",
      "14           0    0    0      0\n",
      "15           0    0    1      0\n",
      "16           0    1    1      0\n",
      "17           1    0    0      1\n",
      "18           0    0    1      1\n",
      "19           0    1    1      0\n"
     ]
    }
   ],
   "source": [
    "# import LabelEncoder\n",
    "from sklearn import preprocessing\n",
    "\n",
    "#create labelEncoder\n",
    "labelE = preprocessing.LabelEncoder()\n",
    "\n",
    "# Convert String labels into numbers.\n",
    "df['university'] = labelE.fit_transform(df['university'])\n",
    "df['dad'] = labelE.fit_transform(df['dad'])\n",
    "df['mom'] = labelE.fit_transform(df['mom'])\n",
    "df['child'] = labelE.fit_transform(df['child'])\n",
    "\n",
    "print(df)\n",
    "new = [1, 1, 1] # 'university', 'university', 'girl'"
   ]
  },
  {
   "cell_type": "code",
   "execution_count": 27,
   "metadata": {},
   "outputs": [
    {
     "name": "stdout",
     "output_type": "stream",
     "text": [
      "When input : [dad= university, mom= university, child=girl]\n",
      "'University - None' is predicted\n"
     ]
    }
   ],
   "source": [
    "# Split data int features and label\n",
    "features = df.drop(['university'],axis=1)\n",
    "label = df['university']\n",
    "\n",
    "\n",
    "# import Gaussian Naive Bayes model\n",
    "from sklearn.naive_bayes import GaussianNB\n",
    "\n",
    "# Create a Gaussian Classifier\n",
    "model =GaussianNB()\n",
    "\n",
    "# Train the model using the training sets\n",
    "model.fit(features, label)\n",
    "\n",
    "# Predict Output\n",
    "predicted = model.predict([new])\n",
    "\n",
    "print(\"When input : [dad= university, mom= university, child=girl]\")\n",
    "if(predicted == 0) : print(\"'University - Enter' is predicted\")\n",
    "elif(predicted == 1) : print(\"'University - None' is predicted\")"
   ]
  },
  {
   "cell_type": "code",
   "execution_count": null,
   "metadata": {},
   "outputs": [],
   "source": []
  }
 ],
 "metadata": {
  "kernelspec": {
   "display_name": "Python 3",
   "language": "python",
   "name": "python3"
  },
  "language_info": {
   "codemirror_mode": {
    "name": "ipython",
    "version": 3
   },
   "file_extension": ".py",
   "mimetype": "text/x-python",
   "name": "python",
   "nbconvert_exporter": "python",
   "pygments_lexer": "ipython3",
   "version": "3.6.5"
  }
 },
 "nbformat": 4,
 "nbformat_minor": 2
}
