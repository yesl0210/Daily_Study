{
 "cells": [
  {
   "cell_type": "code",
   "execution_count": 44,
   "metadata": {},
   "outputs": [],
   "source": [
    "import numpy as np\n",
    "import pandas as pd\n",
    "import warnings"
   ]
  },
  {
   "cell_type": "code",
   "execution_count": 45,
   "metadata": {},
   "outputs": [
    {
     "name": "stdout",
     "output_type": "stream",
     "text": [
      "[1, 2, 3, 1, 3, 2, 2, 1]\n"
     ]
    }
   ],
   "source": [
    "mat = [[0.90, 0.07, 0.03],\n",
    "       [0.15, 0.80, 0.05],\n",
    "       [0.35, 0.15, 0.50]] # Transition Matrix\n",
    "\n",
    "# States\n",
    "bull = 1\n",
    "bear = 2\n",
    "stagnant = 3\n",
    "\n",
    "# the sequence of observations below\n",
    "sequence = [bull, bear, stagnant, bull, stagnant, bear, bear, bull]\n",
    "print(sequence)"
   ]
  },
  {
   "cell_type": "code",
   "execution_count": 49,
   "metadata": {},
   "outputs": [
    {
     "name": "stdout",
     "output_type": "stream",
     "text": [
      "Probability for sequence [bull, bear, stagnant, bull, stagnant, bear, bear, bull]\n",
      "-> 6.615000000000001e-07\n"
     ]
    }
   ],
   "source": [
    "result = 1 # initialize result\n",
    "for i in range(len(sequence)-1) :\n",
    "    # probability = p1 * p12 * p23 * p31 * p13 * p32 * p22 * p21\n",
    "    result = result * mat[sequence[i]-1][sequence[i+1]-1]\n",
    "print(\"Probability for sequence [bull, bear, stagnant, bull, stagnant, bear, bear, bull]\")\n",
    "print(\"->\",result)"
   ]
  },
  {
   "cell_type": "code",
   "execution_count": 42,
   "metadata": {},
   "outputs": [
    {
     "name": "stdout",
     "output_type": "stream",
     "text": [
      "0.00015360000000000005\n",
      "0.00015360000000000002\n"
     ]
    }
   ],
   "source": []
  },
  {
   "cell_type": "code",
   "execution_count": 35,
   "metadata": {},
   "outputs": [],
   "source": [
    "# porp = 1.0 * mat[0][1] * mat[1][2] * mat[2][0] * mat[0][2] * mat[2][1] * mat[1][1] * mat[1][0]\n",
    "# print(porp) # 6.615000000000001e-07"
   ]
  },
  {
   "cell_type": "code",
   "execution_count": null,
   "metadata": {},
   "outputs": [],
   "source": []
  }
 ],
 "metadata": {
  "kernelspec": {
   "display_name": "Python 3",
   "language": "python",
   "name": "python3"
  },
  "language_info": {
   "codemirror_mode": {
    "name": "ipython",
    "version": 3
   },
   "file_extension": ".py",
   "mimetype": "text/x-python",
   "name": "python",
   "nbconvert_exporter": "python",
   "pygments_lexer": "ipython3",
   "version": "3.6.5"
  }
 },
 "nbformat": 4,
 "nbformat_minor": 2
}
