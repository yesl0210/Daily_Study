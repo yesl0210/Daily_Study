{
 "cells": [
  {
   "cell_type": "code",
   "execution_count": 1,
   "metadata": {},
   "outputs": [],
   "source": [
    "import numpy as np\n",
    "import pandas as pd\n",
    "import warnings"
   ]
  },
  {
   "cell_type": "code",
   "execution_count": 4,
   "metadata": {},
   "outputs": [
    {
     "name": "stdout",
     "output_type": "stream",
     "text": [
      "[[0.6, 0.15, 0.05, 0.2], [0.05, 0.8, 0.1, 0.05], [0.05, 0.15, 0.5, 0.3], [0.2, 0.15, 0.15, 0.5]]\n",
      "[2, 4, 1, 1, 3, 2]\n"
     ]
    }
   ],
   "source": [
    "mat = [[0.60, 0.15, 0.05, 0.20],\n",
    "       [0.05, 0.80, 0.10, 0.05],\n",
    "       [0.05, 0.15, 0.50, 0.30],\n",
    "       [0.20, 0.15, 0.15, 0.50]] # Transition Matrix\n",
    "\n",
    "# States\n",
    "study = 1\n",
    "rest = 2\n",
    "walk = 3\n",
    "eat = 4\n",
    "\n",
    "# the sequence of observations below\n",
    "sequence = [rest, eat, study, study, walk, rest]\n",
    "print(sequence)"
   ]
  },
  {
   "cell_type": "code",
   "execution_count": 7,
   "metadata": {},
   "outputs": [
    {
     "name": "stdout",
     "output_type": "stream",
     "text": [
      "Probability for sequence [rest, eat, study, study, walk, rest]\n",
      "-> 4.500000000000001e-05\n"
     ]
    }
   ],
   "source": [
    "result = 1 # initialize result\n",
    "for i in range(len(sequence)-1) :\n",
    "    # probability = p2 * p24 * p41 * p11 * p13 * p32 \n",
    "    result = result * mat[sequence[i]-1][sequence[i+1]-1]\n",
    "    \n",
    "print(\"Probability for sequence [rest, eat, study, study, walk, rest]\")\n",
    "print(\"->\",result)"
   ]
  },
  {
   "cell_type": "code",
   "execution_count": null,
   "metadata": {},
   "outputs": [],
   "source": []
  }
 ],
 "metadata": {
  "kernelspec": {
   "display_name": "Python 3",
   "language": "python",
   "name": "python3"
  },
  "language_info": {
   "codemirror_mode": {
    "name": "ipython",
    "version": 3
   },
   "file_extension": ".py",
   "mimetype": "text/x-python",
   "name": "python",
   "nbconvert_exporter": "python",
   "pygments_lexer": "ipython3",
   "version": "3.6.5"
  }
 },
 "nbformat": 4,
 "nbformat_minor": 2
}
