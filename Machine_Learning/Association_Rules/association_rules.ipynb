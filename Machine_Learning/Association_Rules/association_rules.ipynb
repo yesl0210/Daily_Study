{
 "cells": [
  {
   "cell_type": "code",
   "execution_count": 4,
   "metadata": {},
   "outputs": [],
   "source": [
    "import numpy as np\n",
    "import matplotlib.pyplot as plt\n",
    "import pandas as pd\n",
    "from apyori import apriori"
   ]
  },
  {
   "cell_type": "code",
   "execution_count": 9,
   "metadata": {},
   "outputs": [
    {
     "name": "stdout",
     "output_type": "stream",
     "text": [
      "7501\n"
     ]
    }
   ],
   "source": [
    "movie_data= pd.read_csv('movie_dataset.csv', header = None)\n",
    "num_records= len(movie_data)\n",
    "print(num_records)"
   ]
  },
  {
   "cell_type": "code",
   "execution_count": 10,
   "metadata": {},
   "outputs": [],
   "source": [
    "records = []\n",
    "for i in range(0, num_records) :\n",
    "    records.append([str(movie_data.values[i,j]) for j in range(0,20)])"
   ]
  },
  {
   "cell_type": "code",
   "execution_count": 11,
   "metadata": {},
   "outputs": [],
   "source": [
    "association_rules = apriori(records, min_support = 0.0053, min_confidence=0.20,\n",
    "                           min_lift=3, min_length=2)\n",
    "\n",
    "association_results = list(association_rules)"
   ]
  },
  {
   "cell_type": "code",
   "execution_count": 13,
   "metadata": {},
   "outputs": [
    {
     "name": "stdout",
     "output_type": "stream",
     "text": [
      "32\n"
     ]
    }
   ],
   "source": [
    "print(len(association_results))"
   ]
  },
  {
   "cell_type": "code",
   "execution_count": 14,
   "metadata": {},
   "outputs": [
    {
     "name": "stdout",
     "output_type": "stream",
     "text": [
      "RelationRecord(items=frozenset({'Red Sparrow', 'Green Lantern'}), support=0.005732568990801226, ordered_statistics=[OrderedStatistic(items_base=frozenset({'Red Sparrow'}), items_add=frozenset({'Green Lantern'}), confidence=0.3006993006993007, lift=3.790832696715049)])\n"
     ]
    }
   ],
   "source": [
    "print(association_results[0])"
   ]
  },
  {
   "cell_type": "code",
   "execution_count": 20,
   "metadata": {},
   "outputs": [
    {
     "name": "stdout",
     "output_type": "stream",
     "text": [
      "          Title 1                Title 2  Support Confidence     Lift\n",
      "0     Red Sparrow          Green Lantern  0.00573    0.30069  3.79083\n",
      "1   Green Lantern              Star Wars  0.00586    0.37288  4.70081\n",
      "2         Jumanji          Kung Fu Panda  0.01599    0.32345  3.29199\n",
      "3    Wonder Woman                Jumanji  0.00533    0.37735  3.84065\n",
      "4     Spiderman 3  The Spy Who Dumped Me  0.00799    0.27149  4.12241\n",
      "5            Coco                 Intern  0.00533    0.23255  3.25451\n",
      "6             nan            Red Sparrow  0.00573    0.30069  3.79083\n",
      "7             nan          Green Lantern  0.00586    0.37288  4.70081\n",
      "8         Jumanji                 Intern  0.00866    0.31100  3.16532\n",
      "9   Ninja Turtles                 Intern  0.00719    0.30508  3.20061\n",
      "10    Spiderman 3                 Intern  0.00573    0.20574  3.12402\n",
      "11     Tomb Rider                 Intern  0.00599    0.21531  3.01314\n",
      "12    World War Z                 Intern  0.00666    0.23923  3.49804\n",
      "13       Iron Man                Jumanji  0.00533    0.32258  3.28314\n",
      "14  Ninja Turtles                Jumanji  0.00666    0.39062  3.97568\n",
      "15     Tomb Rider                Jumanji  0.00639    0.39344  4.00435\n",
      "16            nan                Jumanji  0.01599    0.32345  3.29199\n",
      "17     Tomb Rider                Jumanji  0.00599    0.52325  3.00531\n",
      "18            nan           Wonder Woman  0.00533    0.37735  3.84065\n",
      "19    Spiderman 3                  Moana  0.00719    0.20300  3.08250\n",
      "20            nan            Spiderman 3  0.00799    0.27149  4.12241\n",
      "21            nan                   Coco  0.00533    0.23255  3.25451\n",
      "22            nan                Jumanji  0.00866    0.31100  3.16532\n",
      "23  Ninja Turtles                    nan  0.00719    0.30681  3.21880\n",
      "24            nan            Spiderman 3  0.00573    0.20574  3.12402\n",
      "25            nan             Tomb Rider  0.00599    0.21531  3.01314\n",
      "26            nan            World War Z  0.00666    0.23923  3.49804\n",
      "27            nan               Iron Man  0.00533    0.32258  3.28314\n",
      "28  Ninja Turtles                    nan  0.00666    0.39062  3.97568\n",
      "29            nan             Tomb Rider  0.00639    0.39344  4.00435\n",
      "30            nan             Tomb Rider  0.00599    0.52325  3.00531\n",
      "31            nan            Spiderman 3  0.00719    0.20300  3.08250\n"
     ]
    }
   ],
   "source": [
    "results=[]\n",
    "for item in association_results : \n",
    "    pair = item[0]\n",
    "    items = [x for x in pair]\n",
    "    \n",
    "    value0 = str(items[0])\n",
    "    value1 = str(items[1])\n",
    "    \n",
    "    value2 = str(item[1])[:7]\n",
    "    \n",
    "    value3 = str(item[2][0][2])[:7]\n",
    "    value4 = str(item[2][0][3])[:7]\n",
    "    \n",
    "    rows = (value0, value1, value2, value3, value4)\n",
    "    results.append(rows)\n",
    "    \n",
    "labels = ['Title 1', 'Title 2', 'Support', 'Confidence', 'Lift']\n",
    "movie_suggestion = pd.DataFrame.from_records(results, columns = labels)\n",
    "\n",
    "print(movie_suggestion)"
   ]
  },
  {
   "cell_type": "code",
   "execution_count": null,
   "metadata": {},
   "outputs": [],
   "source": []
  }
 ],
 "metadata": {
  "kernelspec": {
   "display_name": "Python 3",
   "language": "python",
   "name": "python3"
  },
  "language_info": {
   "codemirror_mode": {
    "name": "ipython",
    "version": 3
   },
   "file_extension": ".py",
   "mimetype": "text/x-python",
   "name": "python",
   "nbconvert_exporter": "python",
   "pygments_lexer": "ipython3",
   "version": "3.6.5"
  }
 },
 "nbformat": 4,
 "nbformat_minor": 2
}
