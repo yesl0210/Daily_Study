{
 "cells": [
  {
   "cell_type": "code",
   "execution_count": 41,
   "metadata": {},
   "outputs": [],
   "source": [
    "import numpy as np\n",
    "import pandas as pd\n",
    "from sklearn.neighbors import KNeighborsClassifier\n",
    "from sklearn.model_selection import cross_val_score\n",
    "\n",
    "# read data\n",
    "data = pd.read_csv('knn_data.csv',encoding='utf-8')\n",
    "data = data.values"
   ]
  },
  {
   "cell_type": "code",
   "execution_count": 42,
   "metadata": {},
   "outputs": [],
   "source": [
    "features = data[:,:-1] \n",
    "labels = data[:,-1] \n",
    "labels = np.reshape(labels,-1)"
   ]
  },
  {
   "cell_type": "code",
   "execution_count": 51,
   "metadata": {
    "scrolled": true
   },
   "outputs": [
    {
     "name": "stdout",
     "output_type": "stream",
     "text": [
      "each accuracy:  [0.41176471 0.5625     0.35714286 0.42857143 0.57142857]\n",
      "cv_scores mean:0.466281512605042\n",
      "Hold Out : 0.5333333333333333\n"
     ]
    }
   ],
   "source": [
    "# create a new KNN model\n",
    "knn_cv = KNeighborsClassifier(n_neighbors=3)\n",
    "\n",
    "# train model with cv of 5\n",
    "cv_scores = cross_val_score(knn_cv, features,labels,cv=5)\n",
    "\n",
    "# print each cv score and average them\n",
    "print('each accuracy: ',cv_scores)\n",
    "print('cv_scores mean:{}'.format(np.mean(cv_scores)))\n",
    "\n",
    "# Hold Out\n",
    "X_train, X_test, y_train, y_test = train_test_split(features, labels, test_size=0.2, random_state=1)\n",
    "\n",
    "# Train the KNN classifier\n",
    "knn_cv.fit(X_train,y_train)\n",
    "\n",
    "# predict label to X_test\n",
    "knn_cv.predict(X_test)\n",
    "\n",
    "# check accurach of the model on the test data\n",
    "print(\"Hold Out :\", knn_cv.score(X_test,y_test))"
   ]
  },
  {
   "cell_type": "code",
   "execution_count": null,
   "metadata": {},
   "outputs": [],
   "source": []
  }
 ],
 "metadata": {
  "kernelspec": {
   "display_name": "Python 3",
   "language": "python",
   "name": "python3"
  },
  "language_info": {
   "codemirror_mode": {
    "name": "ipython",
    "version": 3
   },
   "file_extension": ".py",
   "mimetype": "text/x-python",
   "name": "python",
   "nbconvert_exporter": "python",
   "pygments_lexer": "ipython3",
   "version": "3.6.5"
  }
 },
 "nbformat": 4,
 "nbformat_minor": 2
}
