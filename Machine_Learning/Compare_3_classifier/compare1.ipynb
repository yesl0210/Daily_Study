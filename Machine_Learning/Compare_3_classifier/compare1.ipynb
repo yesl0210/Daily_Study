{
 "cells": [
  {
   "cell_type": "code",
   "execution_count": 1,
   "metadata": {},
   "outputs": [],
   "source": [
    "import pandas as pd\n",
    "import numpy as np\n",
    "from sklearn.preprocessing import LabelEncoder\n",
    "from sklearn.preprocessing import MinMaxScaler\n",
    "from sklearn.tree import DecisionTreeClassifier\n",
    "from sklearn.model_selection import cross_val_score \n",
    "from sklearn.model_selection import KFold\n",
    "from sklearn.linear_model import LinearRegression \n",
    "from sklearn.linear_model import LogisticRegression \n",
    "from sklearn.model_selection import train_test_split\n",
    "from sklearn.svm import SVC\n",
    "import seaborn as sn"
   ]
  },
  {
   "cell_type": "code",
   "execution_count": 1,
   "metadata": {},
   "outputs": [
    {
     "ename": "NameError",
     "evalue": "name 'pd' is not defined",
     "output_type": "error",
     "traceback": [
      "\u001b[1;31m---------------------------------------------------------------------------\u001b[0m",
      "\u001b[1;31mNameError\u001b[0m                                 Traceback (most recent call last)",
      "\u001b[1;32m<ipython-input-1-6c1afce7fa1d>\u001b[0m in \u001b[0;36m<module>\u001b[1;34m()\u001b[0m\n\u001b[1;32m----> 1\u001b[1;33m \u001b[0mdf\u001b[0m \u001b[1;33m=\u001b[0m \u001b[0mpd\u001b[0m\u001b[1;33m.\u001b[0m\u001b[0mread_csv\u001b[0m\u001b[1;33m(\u001b[0m\u001b[1;34m'Indicators.csv'\u001b[0m\u001b[1;33m)\u001b[0m\u001b[1;33m\u001b[0m\u001b[0m\n\u001b[0m\u001b[0;32m      2\u001b[0m \u001b[0mprint\u001b[0m\u001b[1;33m(\u001b[0m\u001b[0mheart\u001b[0m\u001b[1;33m.\u001b[0m\u001b[0mhead\u001b[0m\u001b[1;33m(\u001b[0m\u001b[1;36m10\u001b[0m\u001b[1;33m)\u001b[0m\u001b[1;33m)\u001b[0m\u001b[1;33m\u001b[0m\u001b[0m\n",
      "\u001b[1;31mNameError\u001b[0m: name 'pd' is not defined"
     ]
    }
   ],
   "source": [
    "heart = pd.read_csv('heart.csv')\n",
    "print(heart.head())"
   ]
  },
  {
   "cell_type": "code",
   "execution_count": 3,
   "metadata": {},
   "outputs": [],
   "source": [
    "scaler= MinMaxScaler()\n",
    "\n",
    "heart[['trestbps', 'chol', 'thalach']] = scaler.fit_transform(heart[['trestbps', 'chol', 'thalach']])\n",
    "#print(heart['trestbps', 'chol' 'thalach'])\n"
   ]
  },
  {
   "cell_type": "code",
   "execution_count": 4,
   "metadata": {},
   "outputs": [],
   "source": [
    "X= heart.drop(['target'], 1)\n",
    "y= heart['target']"
   ]
  },
  {
   "cell_type": "code",
   "execution_count": null,
   "metadata": {},
   "outputs": [
    {
     "name": "stdout",
     "output_type": "stream",
     "text": [
      "[0.80645161 0.87096774 0.80645161 0.77419355 0.77419355 0.73333333\n",
      " 0.73333333 0.76666667 0.68965517 0.75862069]\n",
      "0.8709677419354839\n",
      "cv_scores mean:0.7713867259918429\n",
      "[0.77419355 0.80645161 0.83870968 0.77419355 0.74193548 0.7\n",
      " 0.7        0.73333333 0.68965517 0.75862069]\n",
      "0.8387096774193549\n",
      "cv_scores mean:0.7517093066370041\n",
      "[0.87096774 0.80645161 0.83870968 0.87096774 0.83870968 0.76666667\n",
      " 0.9        0.86666667 0.68965517 0.68965517]\n",
      "0.9\n",
      "cv_scores mean:0.8138450129773822\n",
      "[0.87096774 0.80645161 0.83870968 0.87096774 0.83870968 0.76666667\n",
      " 0.9        0.86666667 0.68965517 0.68965517]\n",
      "0.9\n",
      "cv_scores mean:0.8138450129773822\n",
      "[0.87096774 0.80645161 0.83870968 0.87096774 0.83870968 0.76666667\n",
      " 0.9        0.86666667 0.68965517 0.68965517]\n",
      "0.9\n",
      "cv_scores mean:0.8138450129773822\n",
      "[0.90322581 0.77419355 0.87096774 0.87096774 0.83870968 0.8\n",
      " 0.86666667 0.86666667 0.68965517 0.68965517]\n",
      "0.9032258064516129\n",
      "cv_scores mean:0.8170708194289953\n",
      "[0.90322581 0.77419355 0.83870968 0.87096774 0.83870968 0.8\n",
      " 0.9        0.86666667 0.68965517 0.68965517]\n",
      "0.9032258064516129\n",
      "cv_scores mean:0.8171783463107156\n",
      "[0.90322581 0.77419355 0.90322581 0.87096774 0.83870968 0.8\n",
      " 0.9        0.9        0.68965517 0.68965517]\n",
      "0.9032258064516129\n",
      "cv_scores mean:0.8269632925472747\n",
      "[0.90322581 0.83870968 0.90322581 0.90322581 0.87096774 0.8\n",
      " 0.86666667 0.9        0.65517241 0.65517241]\n",
      "0.9032258064516129\n",
      "cv_scores mean:0.829636633296255\n",
      "[0.90322581 0.83870968 0.90322581 0.87096774 0.87096774 0.8\n",
      " 0.86666667 0.86666667 0.65517241 0.68965517]\n",
      "0.9032258064516129\n",
      "cv_scores mean:0.8265257693733778\n",
      "[0.90322581 0.80645161 0.87096774 0.87096774 0.87096774 0.8\n",
      " 0.86666667 0.86666667 0.65517241 0.68965517]\n",
      "0.9032258064516129\n",
      "cv_scores mean:0.820074156470152\n",
      "[0.87096774 0.80645161 0.83870968 0.90322581 0.90322581 0.8\n",
      " 0.9        0.9        0.65517241 0.68965517]\n",
      "0.9032258064516129\n",
      "cv_scores mean:0.8267408231368186\n",
      "[0.87096774 0.80645161 0.83870968 0.90322581 0.90322581 0.8\n",
      " 0.9        0.9        0.65517241 0.68965517]\n",
      "0.9032258064516129\n",
      "cv_scores mean:0.8267408231368186\n"
     ]
    }
   ],
   "source": [
    "import warnings\n",
    " \n",
    "warnings.filterwarnings(\"ignore\")\n",
    "\n",
    "criterion= ['gini', 'entropy']\n",
    "\n",
    "for i in (criterion):\n",
    "    clf=DecisionTreeClassifier(criterion=i)\n",
    "    cv_scores= cross_val_score(clf, X, y, cv=10)\n",
    "    print(cv_scores)\n",
    "    print(max(cv_scores))\n",
    "    print('cv_scores mean:{}'.format(np.mean(cv_scores)))\n",
    "\n",
    "solver= ['liblinear', 'lbfgs', 'sag']\n",
    "max_iter= [50, 100, 200]\n",
    "for i in (solver):\n",
    "    for j in (max_iter):\n",
    "        reg=LogisticRegression(solver=i, max_iter=j)\n",
    "        cv_scores= cross_val_score(reg, X, y, cv=10)\n",
    "        print(cv_scores)\n",
    "        print(max(cv_scores))\n",
    "        print('cv_scores mean:{}'.format(np.mean(cv_scores)))\n",
    "    \n",
    "C= [0.1, 1.0, 10.0]\n",
    "kernel=['linear', 'poly', 'rbf','sigmoid']\n",
    "gamma=[10, 100]\n",
    "\n",
    "for i in (C):\n",
    "    for j in (kernel):\n",
    "        for k in(gamma):\n",
    "            reg=SVC(C=i, kernel=j, gamma=k)\n",
    "            cv_scores= cross_val_score(reg, X, y, cv=10)\n",
    "            print(cv_scores)\n",
    "            print(max(cv_scores))\n",
    "            print('cv_scores mean:{}'.format(np.mean(cv_scores)))\n"
   ]
  },
  {
   "cell_type": "code",
   "execution_count": null,
   "metadata": {},
   "outputs": [],
   "source": [
    "import warnings\n",
    " \n",
    "warnings.filterwarnings(\"ignore\")\n",
    "#X_train, X_test, y_train, y_test= train_test_split(X, y, test_size=0.2)\n",
    "criterion= ['gini', 'entropy']\n",
    "scores=[]\n",
    "X_train, X_test, y_train, y_test= train_test_split(X, y, test_size=0.2)\n",
    "    \n",
    "for i in (criterion):\n",
    "    clf=DecisionTreeClassifier(criterion=i).fit(X_train, y_train)\n",
    "    print(i)\n",
    "    print(clf.score(X_test, y_test))\n",
    "    scores.append(clf.score(X_test, y_test))\n",
    "    \n",
    "solver= ['liblinear', 'lbfgs', 'sag']\n",
    "max_iter= [50, 100, 200]\n",
    "for i in (solver):\n",
    "    for j in (max_iter):\n",
    "        reg=LogisticRegression(solver=i, max_iter=j).fit(X_train, y_train)\n",
    "        print(i, j)\n",
    "        print(reg.score(X_test, y_test))\n",
    "        scores.append(clf.score(X_test, y_test))\n",
    "\n",
    "C= [0.1, 1.0, 10.0]\n",
    "kernel=['linear','rbf','sigmoid', 'poly']\n",
    "# 0 is not valid\n",
    "gamma=[10, 100]\n",
    "\n",
    "for i in (C):\n",
    "    for j in (kernel):\n",
    "        for k in(gamma):\n",
    "            print(i, j, k)\n",
    "            reg=SVC(C=i, kernel=j, gamma=k).fit(X_train, y_train)\n",
    "            print(reg.score(X_test, y_test))\n",
    "            scores.append(clf.score(X_test, y_test))\n",
    "\n",
    "print(scores)\n",
    "print(max(scores))"
   ]
  },
  {
   "cell_type": "code",
   "execution_count": null,
   "metadata": {},
   "outputs": [],
   "source": [
    "# confusion matrix using Seaborn\n",
    "clf=DecisionTreeClassifier(criterion='gini').fit(X_train, y_train)\n",
    "actual=y_test\n",
    "predicted=clf.predict(X_test)\n",
    "\n",
    "confusion_matrix= pd.crosstab(actual, predicted, rownames=['Actual'], colnames=['Predicted'])\n",
    "sn.heatmap(confusion_matrix, annot=True)\n"
   ]
  },
  {
   "cell_type": "code",
   "execution_count": null,
   "metadata": {},
   "outputs": [],
   "source": [
    "confusion_matrix= pd.crosstab(actual, predicted, rownames=['Actual'], colnames=['Predicted'], margins=True)\n",
    "sn.heatmap(confusion_matrix, annot=True)\n"
   ]
  },
  {
   "cell_type": "code",
   "execution_count": null,
   "metadata": {},
   "outputs": [],
   "source": [
    "# accuracy score in bar chart\n",
    "params=['decisionTree', 'LogisticRegression', 'SVM']\n",
    "plt.bar(params, score)\n",
    "plt.xlabel(\"decision tree parameter\")\n",
    "plt.ylabel(\"accuracy\")\n",
    "plt.title(\"decision tree\")\n",
    "plt.show()\n"
   ]
  },
  {
   "cell_type": "code",
   "execution_count": null,
   "metadata": {},
   "outputs": [],
   "source": []
  }
 ],
 "metadata": {
  "kernelspec": {
   "display_name": "Python 3",
   "language": "python",
   "name": "python3"
  },
  "language_info": {
   "codemirror_mode": {
    "name": "ipython",
    "version": 3
   },
   "file_extension": ".py",
   "mimetype": "text/x-python",
   "name": "python",
   "nbconvert_exporter": "python",
   "pygments_lexer": "ipython3",
   "version": "3.6.5"
  }
 },
 "nbformat": 4,
 "nbformat_minor": 2
}
