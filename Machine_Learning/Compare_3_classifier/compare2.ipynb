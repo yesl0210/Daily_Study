{
 "cells": [
  {
   "cell_type": "code",
   "execution_count": 176,
   "metadata": {},
   "outputs": [
    {
     "data": {
      "text/html": [
       "<div>\n",
       "<style scoped>\n",
       "    .dataframe tbody tr th:only-of-type {\n",
       "        vertical-align: middle;\n",
       "    }\n",
       "\n",
       "    .dataframe tbody tr th {\n",
       "        vertical-align: top;\n",
       "    }\n",
       "\n",
       "    .dataframe thead th {\n",
       "        text-align: right;\n",
       "    }\n",
       "</style>\n",
       "<table border=\"1\" class=\"dataframe\">\n",
       "  <thead>\n",
       "    <tr style=\"text-align: right;\">\n",
       "      <th></th>\n",
       "      <th>age</th>\n",
       "      <th>sex</th>\n",
       "      <th>cp</th>\n",
       "      <th>trestbps</th>\n",
       "      <th>chol</th>\n",
       "      <th>fbs</th>\n",
       "      <th>restecg</th>\n",
       "      <th>thalach</th>\n",
       "      <th>exang</th>\n",
       "      <th>oldpeak</th>\n",
       "      <th>slope</th>\n",
       "      <th>ca</th>\n",
       "      <th>thal</th>\n",
       "      <th>target</th>\n",
       "    </tr>\n",
       "  </thead>\n",
       "  <tbody>\n",
       "    <tr>\n",
       "      <th>0</th>\n",
       "      <td>63</td>\n",
       "      <td>1</td>\n",
       "      <td>3</td>\n",
       "      <td>145</td>\n",
       "      <td>233</td>\n",
       "      <td>1</td>\n",
       "      <td>0</td>\n",
       "      <td>150</td>\n",
       "      <td>0</td>\n",
       "      <td>2.3</td>\n",
       "      <td>0</td>\n",
       "      <td>0</td>\n",
       "      <td>1</td>\n",
       "      <td>1</td>\n",
       "    </tr>\n",
       "    <tr>\n",
       "      <th>1</th>\n",
       "      <td>37</td>\n",
       "      <td>1</td>\n",
       "      <td>2</td>\n",
       "      <td>130</td>\n",
       "      <td>250</td>\n",
       "      <td>0</td>\n",
       "      <td>1</td>\n",
       "      <td>187</td>\n",
       "      <td>0</td>\n",
       "      <td>3.5</td>\n",
       "      <td>0</td>\n",
       "      <td>0</td>\n",
       "      <td>2</td>\n",
       "      <td>1</td>\n",
       "    </tr>\n",
       "    <tr>\n",
       "      <th>2</th>\n",
       "      <td>41</td>\n",
       "      <td>0</td>\n",
       "      <td>1</td>\n",
       "      <td>130</td>\n",
       "      <td>204</td>\n",
       "      <td>0</td>\n",
       "      <td>0</td>\n",
       "      <td>172</td>\n",
       "      <td>0</td>\n",
       "      <td>1.4</td>\n",
       "      <td>2</td>\n",
       "      <td>0</td>\n",
       "      <td>2</td>\n",
       "      <td>1</td>\n",
       "    </tr>\n",
       "    <tr>\n",
       "      <th>3</th>\n",
       "      <td>56</td>\n",
       "      <td>1</td>\n",
       "      <td>1</td>\n",
       "      <td>120</td>\n",
       "      <td>236</td>\n",
       "      <td>0</td>\n",
       "      <td>1</td>\n",
       "      <td>178</td>\n",
       "      <td>0</td>\n",
       "      <td>0.8</td>\n",
       "      <td>2</td>\n",
       "      <td>0</td>\n",
       "      <td>2</td>\n",
       "      <td>1</td>\n",
       "    </tr>\n",
       "    <tr>\n",
       "      <th>4</th>\n",
       "      <td>57</td>\n",
       "      <td>0</td>\n",
       "      <td>0</td>\n",
       "      <td>120</td>\n",
       "      <td>354</td>\n",
       "      <td>0</td>\n",
       "      <td>1</td>\n",
       "      <td>163</td>\n",
       "      <td>1</td>\n",
       "      <td>0.6</td>\n",
       "      <td>2</td>\n",
       "      <td>0</td>\n",
       "      <td>2</td>\n",
       "      <td>1</td>\n",
       "    </tr>\n",
       "  </tbody>\n",
       "</table>\n",
       "</div>"
      ],
      "text/plain": [
       "   age  sex  cp  trestbps  chol  fbs  restecg  thalach  exang  oldpeak  slope  \\\n",
       "0   63    1   3       145   233    1        0      150      0      2.3      0   \n",
       "1   37    1   2       130   250    0        1      187      0      3.5      0   \n",
       "2   41    0   1       130   204    0        0      172      0      1.4      2   \n",
       "3   56    1   1       120   236    0        1      178      0      0.8      2   \n",
       "4   57    0   0       120   354    0        1      163      1      0.6      2   \n",
       "\n",
       "   ca  thal  target  \n",
       "0   0     1       1  \n",
       "1   0     2       1  \n",
       "2   0     2       1  \n",
       "3   0     2       1  \n",
       "4   0     2       1  "
      ]
     },
     "execution_count": 176,
     "metadata": {},
     "output_type": "execute_result"
    }
   ],
   "source": [
    "import numpy as np\n",
    "import pandas as pd\n",
    "from sklearn.preprocessing import MinMaxScaler\n",
    "from sklearn.model_selection import cross_val_score\n",
    "from sklearn.model_selection import KFold\n",
    "from sklearn.tree import DecisionTreeClassifier\n",
    "from sklearn.linear_model import LogisticRegression\n",
    "from sklearn.svm import SVC\n",
    "import seaborn as sns\n",
    "import matplotlib.pyplot as plt\n",
    "import warnings\n",
    "\n",
    "warnings.filterwarnings('ignore')\n",
    "df.head()"
   ]
  },
  {
   "cell_type": "code",
   "execution_count": 177,
   "metadata": {},
   "outputs": [
    {
     "data": {
      "text/plain": [
       "array([[<matplotlib.axes._subplots.AxesSubplot object at 0x000002527B1CD160>,\n",
       "        <matplotlib.axes._subplots.AxesSubplot object at 0x000002527B39FD30>,\n",
       "        <matplotlib.axes._subplots.AxesSubplot object at 0x000002527B3D3F60>,\n",
       "        <matplotlib.axes._subplots.AxesSubplot object at 0x000002527B3FE630>],\n",
       "       [<matplotlib.axes._subplots.AxesSubplot object at 0x000002527B425CC0>,\n",
       "        <matplotlib.axes._subplots.AxesSubplot object at 0x000002527B425CF8>,\n",
       "        <matplotlib.axes._subplots.AxesSubplot object at 0x000002527B47FA20>,\n",
       "        <matplotlib.axes._subplots.AxesSubplot object at 0x000002527B4B00F0>],\n",
       "       [<matplotlib.axes._subplots.AxesSubplot object at 0x000002527B4D8780>,\n",
       "        <matplotlib.axes._subplots.AxesSubplot object at 0x000002527B500E10>,\n",
       "        <matplotlib.axes._subplots.AxesSubplot object at 0x000002527B5314E0>,\n",
       "        <matplotlib.axes._subplots.AxesSubplot object at 0x000002527B559B70>],\n",
       "       [<matplotlib.axes._subplots.AxesSubplot object at 0x000002527B58B240>,\n",
       "        <matplotlib.axes._subplots.AxesSubplot object at 0x000002527B5B48D0>,\n",
       "        <matplotlib.axes._subplots.AxesSubplot object at 0x000002527B5DDF60>,\n",
       "        <matplotlib.axes._subplots.AxesSubplot object at 0x000002527B60F630>]],\n",
       "      dtype=object)"
      ]
     },
     "execution_count": 177,
     "metadata": {},
     "output_type": "execute_result"
    },
    {
     "data": {
      "image/png": "[encoded data removed]",
      "text/plain": [
       "<Figure size 432x288 with 16 Axes>"
      ]
     },
     "metadata": {},
     "output_type": "display_data"
    }
   ],
   "source": [
    "df = pd.read_csv('heart.csv')\n",
    "df.hist() # Dataset Distribution"
   ]
  },
  {
   "cell_type": "code",
   "execution_count": 178,
   "metadata": {},
   "outputs": [],
   "source": [
    "y = df['target'] # Features\n",
    "X = df.drop(['target'], axis=1) # Label"
   ]
  },
  {
   "cell_type": "code",
   "execution_count": 179,
   "metadata": {},
   "outputs": [],
   "source": [
    "# Scaling value\n",
    "scaler = MinMaxScaler()\n",
    "X_scaled = scaler.fit_transform(X)"
   ]
  },
  {
   "cell_type": "code",
   "execution_count": 180,
   "metadata": {},
   "outputs": [
    {
     "name": "stdout",
     "output_type": "stream",
     "text": [
      "Decision Tree - gini - Accuracy : 0.76\n",
      "Decision Tree Confusion Matrix\n"
     ]
    },
    {
     "data": {
      "text/plain": [
       "<matplotlib.axes._subplots.AxesSubplot at 0x2527b858400>"
      ]
     },
     "execution_count": 180,
     "metadata": {},
     "output_type": "execute_result"
    },
    {
     "data": {
      "image/png": "[encoded data removed]",
      "text/plain": [
       "<Figure size 432x288 with 2 Axes>"
      ]
     },
     "metadata": {},
     "output_type": "display_data"
    }
   ],
   "source": [
    "# Decision Tree #\n",
    "\n",
    "criterion = ['gini', 'entropy'] # Hyperparameter for Decision Tress\n",
    "\n",
    "max_scoreD = 0 # max accuracy score in decision tree for various parameter values\n",
    "good_parm =0 # good parameter which has max accuracy\n",
    "\n",
    "for i in criterion : # Tune hyperparameter(gini or entropy)\n",
    "    decision = DecisionTreeClassifier(criterion=i) # create a new Decision Tree\n",
    "    total_scoresD = [] # set for result(accuracy) of each fold\n",
    "    kfold = KFold(n_splits = 10, shuffle=True) # create fold for k-fold cross validation\n",
    "    \n",
    "    for train, test in kfold.split(X) : # split data to train and test using fold\n",
    "        decision.fit(X.iloc[train],y.iloc[train]) # training classifier\n",
    "        predict_d = decision.predict(X.iloc[test]) # predict test data set\n",
    "        score_d = np.mean(predict_d == y.iloc[test]) # get accuracy in this fold\n",
    "        total_scoresD.append(score_d) \n",
    "        \n",
    "    mean_score = round(np.mean(total_scoresD),2) # get mean of total socre for all folds\n",
    "    \n",
    "    # Find good classifier which has max accuracy and good parameter\n",
    "    # And make confusion matrix with good result\n",
    "    if(mean_score > max_scoreD) :\n",
    "        max_scoreD = mean_score\n",
    "        good_parm = i\n",
    "        # Make Confusion matrix\n",
    "        confusion_matrixD = pd.crosstab(y.iloc[test], predict_d,rownames=['Actual'], colnames = ['Predicted'], margins = True)\n",
    "    \n",
    "# Maximum score and the corresponding parameter values for Decision Tree\n",
    "print(\"Decision Tree -\",good_parm,\"- Accuracy :\", max_scoreD)\n",
    "\n",
    "# Confusion Matrix Heatmap\n",
    "print(\"Decision Tree Confusion Matrix\")\n",
    "sns.heatmap(confusion_matrixD, annot= True)"
   ]
  },
  {
   "cell_type": "code",
   "execution_count": 185,
   "metadata": {},
   "outputs": [
    {
     "name": "stdout",
     "output_type": "stream",
     "text": [
      "Logistic Regression - sag & 200 - Accuracy :  0.84\n",
      "Logistic Regression Confusion Matrix\n"
     ]
    },
    {
     "data": {
      "text/plain": [
       "<matplotlib.axes._subplots.AxesSubplot at 0x2527b9097f0>"
      ]
     },
     "execution_count": 185,
     "metadata": {},
     "output_type": "execute_result"
    },
    {
     "data": {
      "image/png": "[encoded data removed]",
      "text/plain": [
       "<Figure size 432x288 with 2 Axes>"
      ]
     },
     "metadata": {},
     "output_type": "display_data"
    }
   ],
   "source": [
    "# Logistic Regression #\n",
    "\n",
    "# Hyperparameter for Logistic Regression\n",
    "solver = ['liblinear', 'lbfgs', 'sag']\n",
    "max_iter = [50,100,200] \n",
    "\n",
    "max_scoreL = 0 # max accuracy score in decision tree for various parameter values\n",
    "\n",
    "# good parameter which has max accuracy\n",
    "good_parm1 =0\n",
    "good_parm2 = 0\n",
    "\n",
    "for i in solver : # Tune hyperparameter(solver, max_iter)\n",
    "    for j in max_iter : \n",
    "        logistic =  LogisticRegression(solver = i, max_iter = j) # create a logistic regression\n",
    "        total_scoresL = [] # set for result(accuracy) of each fold\n",
    "        kfold = KFold(n_splits = 10, shuffle=True) # create fold for k-fold cross validation\n",
    "        \n",
    "        for train, test in kfold.split(X) : # split data to train and test using fold\n",
    "            logistic.fit(X.iloc[train],y.iloc[train]) # training classifier\n",
    "            predict_l = logistic.predict(X.iloc[test]) # predict test data set\n",
    "            score_l = np.mean(predict_l == y.iloc[test]) # get accuracy in this fold\n",
    "            total_scoresL.append(score_l)\n",
    "        \n",
    "        mean_scoreL = round(np.mean(total_scoresL),2) # get mean of total socre for all folds\n",
    "            \n",
    "    # Find good classifier which has max accuracy and good parameter\n",
    "    # And make confusion matrix with good result\n",
    "        if(mean_scoreL > max_scoreL) :\n",
    "            max_scoreL = mean_scoreL\n",
    "            good_parm1 = i\n",
    "            good_parm2 = j\n",
    "            # Make Confusion matrix\n",
    "            confusion_matrixL = pd.crosstab(y.iloc[test], predict_l,rownames=['Actual'], colnames = ['Predicted'], margins = True)\n",
    "        \n",
    "# Maximum score and the corresponding parameter values for Logistic Regression\n",
    "print(\"Logistic Regression -\",i,\"&\",j,\"- Accuracy : \", max_scoreL)\n",
    "\n",
    "# Confusion Matrix Heatmap\n",
    "print(\"Logistic Regression Confusion Matrix\")\n",
    "sns.heatmap(confusion_matrixL, annot= True)"
   ]
  },
  {
   "cell_type": "code",
   "execution_count": 188,
   "metadata": {},
   "outputs": [
    {
     "name": "stdout",
     "output_type": "stream",
     "text": [
      "SVM - 0.1 & linear & 10 - Accuracy : 0.73\n",
      "SVM Confusion Matrix\n"
     ]
    },
    {
     "data": {
      "text/plain": [
       "<matplotlib.axes._subplots.AxesSubplot at 0x2527cc99128>"
      ]
     },
     "execution_count": 188,
     "metadata": {},
     "output_type": "execute_result"
    },
    {
     "data": {
      "image/png": "[encoded data removed]",
      "text/plain": [
       "<Figure size 432x288 with 2 Axes>"
      ]
     },
     "metadata": {},
     "output_type": "display_data"
    }
   ],
   "source": [
    "# SVM #\n",
    "\n",
    "# Hyperparameter for SVM\n",
    "C = [0.1, 1.0, 10.0]\n",
    "kernel = ['linear', 'poly', 'rbf', 'sigmoid']\n",
    "gamma = [10,100]\n",
    "\n",
    "max_scoreS = 0 # max accuracy score in decision tree for various parameter values\n",
    "\n",
    "# good parameter which has max accuracy\n",
    "good_parm1 =0\n",
    "good_parm2 = 0\n",
    "good_parm3 = 0\n",
    "\n",
    "for i in C : # Tune hyperparameter(C, kernel, gamma)\n",
    "    for j in kernel :\n",
    "        for k in gamma :\n",
    "            svm = SVC(C=0.1, kernel = 'linear', gamma = 10) # create SVM model\n",
    "            total_scoresS = [] # set for result(accuracy) of each fold\n",
    "            kfold = KFold(n_splits = 10, shuffle=True) # create fold for k-fold cross validation\n",
    "            \n",
    "            for train, test in kfold.split(X) : # split data to train and test using fold\n",
    "                svm.fit(X.iloc[train],y.iloc[train]) # training classifier\n",
    "                predict_s = logistic.predict(X.iloc[test]) # predict test data set\n",
    "                score_s = np.mean(predict_s == y.iloc[test]) # get accuracy in this fold\n",
    "                total_scoresS.append(score_s)\n",
    "                \n",
    "            mean_scoreS = round(np.mean(total_scoresS),2) # get mean of total socre for all folds\n",
    "            \n",
    "            # Find good classifier which has max accuracy and good parameter\n",
    "            # And make confusion matrix with good result\n",
    "            if(mean_scoreS > max_scoreS) :\n",
    "                max_scoreS = mean_scoreS\n",
    "                good_parm1 = i\n",
    "                good_parm2 = j\n",
    "                good_parm3 = k\n",
    "                # Make Confusion matrix\n",
    "                confusion_matrixS = pd.crosstab(y.iloc[test], predict_l,rownames=['Actual'], colnames = ['Predicted'], margins = True)\n",
    "\n",
    "# Maximum score and the corresponding parameter values for SVM Model\n",
    "print(\"SVM -\",good_parm1,\"&\",good_parm2,\"&\",good_parm3,\"- Accuracy :\",max_scoreS)\n",
    "\n",
    "# Confusion Matrix Heatmap\n",
    "print(\"SVM Confusion Matrix\")\n",
    "sns.heatmap(confusion_matrixS, annot= True)"
   ]
  },
  {
   "cell_type": "code",
   "execution_count": 183,
   "metadata": {},
   "outputs": [
    {
     "data": {
      "image/png": "[encoded data removed]",
      "text/plain": [
       "<Figure size 432x288 with 1 Axes>"
      ]
     },
     "metadata": {},
     "output_type": "display_data"
    }
   ],
   "source": [
    "# 2D Bar chart with max accuracy in each classifier\n",
    "\n",
    "maxAcc = []\n",
    "maxAcc.append(max_scoreD)\n",
    "maxAcc.append(max_scoreL)\n",
    "maxAcc.append(max_scoreS)\n",
    "\n",
    "classifier = ['Decision Tree', 'Logistic Regression', 'SVM']\n",
    "plt.bar(classifier, maxAcc)\n",
    "plt.show()"
   ]
  },
  {
   "cell_type": "code",
   "execution_count": null,
   "metadata": {},
   "outputs": [],
   "source": []
  }
 ],
 "metadata": {
  "kernelspec": {
   "display_name": "Python 3",
   "language": "python",
   "name": "python3"
  },
  "language_info": {
   "codemirror_mode": {
    "name": "ipython",
    "version": 3
   },
   "file_extension": ".py",
   "mimetype": "text/x-python",
   "name": "python",
   "nbconvert_exporter": "python",
   "pygments_lexer": "ipython3",
   "version": "3.6.5"
  }
 },
 "nbformat": 4,
 "nbformat_minor": 2
}
