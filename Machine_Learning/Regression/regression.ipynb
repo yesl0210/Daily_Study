{
 "cells": [
  {
   "cell_type": "code",
   "execution_count": 28,
   "metadata": {},
   "outputs": [],
   "source": [
    "import numpy as np\n",
    "import pandas as pd\n",
    "import warnings\n",
    "\n",
    "warnings.filterwarnings('ignore')"
   ]
  },
  {
   "cell_type": "code",
   "execution_count": 29,
   "metadata": {},
   "outputs": [
    {
     "name": "stdout",
     "output_type": "stream",
     "text": [
      "Serial No.           0\n",
      "GRE Score            0\n",
      "TOEFL Score          0\n",
      "University Rating    0\n",
      "SOP                  0\n",
      "LOR                  0\n",
      "CGPA                 0\n",
      "Research             0\n",
      "Chance of Admit      0\n",
      "dtype: int64\n"
     ]
    },
    {
     "data": {
      "image/png": "[encoded data removed]",
      "text/plain": [
       "<Figure size 432x288 with 9 Axes>"
      ]
     },
     "metadata": {},
     "output_type": "display_data"
    }
   ],
   "source": [
    "# Data Load\n",
    "# Use graduate-admissions dataset\n",
    "df = pd.read_csv('Admission_Predict.csv',sep=',')\n",
    "df.describe()\n",
    "df.hist()\n",
    "print(df.isna().sum()) # this dataset is clear"
   ]
  },
  {
   "cell_type": "code",
   "execution_count": 30,
   "metadata": {},
   "outputs": [],
   "source": [
    "# Split data set into feature and label set\n",
    "label = df['Chance of Admit ']\n",
    "data = df.drop(['Chance of Admit '], axis=1)"
   ]
  },
  {
   "cell_type": "code",
   "execution_count": 31,
   "metadata": {},
   "outputs": [],
   "source": [
    "# Preprocessing Data\n",
    "\n",
    "# Normalization using MinMaxScaler\n",
    "from sklearn.preprocessing import MinMaxScaler\n",
    "\n",
    "scaler = MinMaxScaler() # create scaler\n",
    "data = scaler.fit_transform(data) # scale data using feature and 'MinMax' method"
   ]
  },
  {
   "cell_type": "code",
   "execution_count": null,
   "metadata": {},
   "outputs": [],
   "source": []
  },
  {
   "cell_type": "code",
   "execution_count": 32,
   "metadata": {},
   "outputs": [
    {
     "name": "stdout",
     "output_type": "stream",
     "text": [
      "Linear Regressor's best param :  {'fit_intercept': 'True', 'n_jobs': 1, 'normalize': 'True'}\n",
      "Linear Regressor's best score :  -0.004291259223446266\n"
     ]
    }
   ],
   "source": [
    "# Linear Regression\n",
    "from sklearn.linear_model import LinearRegression\n",
    "from sklearn.model_selection import GridSearchCV\n",
    "\n",
    "linear = LinearRegression() # Create Linear regression model\n",
    "\n",
    "param_linear = {'fit_intercept' : ['True','False'],'normalize' : ['True', 'False'],'n_jobs' : [1,5,10]} # define parameter for finding best parameter\n",
    "\n",
    "# create GridSearchCV model using linear regression model \n",
    "# find best accuracy and parameter using parameter list.\n",
    "# use cross validation & the number of folds is 10.\n",
    "linear_R = GridSearchCV(linear, param_linear, scoring='neg_mean_squared_error', cv=10)\n",
    "linear_R.fit(data,label)\n",
    "print(\"Linear Regressor's best param : \", linear_R.best_params_)\n",
    "print(\"Linear Regressor's best score : \", linear_R.best_score_)"
   ]
  },
  {
   "cell_type": "code",
   "execution_count": 33,
   "metadata": {},
   "outputs": [
    {
     "name": "stdout",
     "output_type": "stream",
     "text": [
      "Ridge Regressor's best param : {'alpha': 0.01}\n",
      "Ridge Regressor's best score : -0.004290804866515682\n"
     ]
    }
   ],
   "source": [
    "# Ridge regularized regression \n",
    "from sklearn.linear_model import Ridge\n",
    "\n",
    "ridge = Ridge() # Create Ridge model\n",
    "param_ridge = {'alpha' : [1e-15, 1e-10, 1e-8, 1e-4, 1e-3, 1e-2, 1, 5, 10, 20]} # define parameter for finding best parameter\n",
    "\n",
    "# create GridSearchCV model using ridge model \n",
    "# find best accuracy and parameter using parameter list.\n",
    "# use cross validation & the number of folds is 10.\n",
    "ridge_R= GridSearchCV(ridge, param_ridge, scoring='mean_squared_error',cv=10)  \n",
    "ridge_R.fit(data,label) # training and test data. (10 folds)\n",
    "print(\"Ridge Regressor's best param :\",ridge_R.best_params_) # best parameters with the highest score\n",
    "print(\"Ridge Regressor's best score :\",ridge_R.best_score_)"
   ]
  },
  {
   "cell_type": "code",
   "execution_count": 34,
   "metadata": {},
   "outputs": [
    {
     "name": "stdout",
     "output_type": "stream",
     "text": [
      "Lasso Regressor's best param : {'alpha': 0.0001}\n",
      "Lasso Regressor's best score : -0.0042899504682848595\n"
     ]
    }
   ],
   "source": [
    "# Lasso regularized regression\n",
    "from sklearn.linear_model import Lasso\n",
    "\n",
    "lasso = Lasso() # Create Lasso model\n",
    "\n",
    "param_lasso = {'alpha' : [1e-15, 1e-10, 1e-8, 1e-4, 1e-3, 1e-2, 1, 5, 10, 20]} # define parameter for finding best parameter\n",
    "\n",
    "# create GridSearchCV model using lasso model\n",
    "# find best accuracy and parameter using parameter list.\n",
    "# use cross validation & the number of folds is 10.\n",
    "lasso_R = GridSearchCV(lasso, param_lasso, scoring='neg_mean_squared_error', cv=10)\n",
    "lasso_R.fit(data,label) # training and test data. (10 folds)\n",
    "\n",
    "print(\"Lasso Regressor's best param :\",lasso_R.best_params_) # best parameters with the highest score\n",
    "print(\"Lasso Regressor's best score :\",lasso_R.best_score_)"
   ]
  },
  {
   "cell_type": "code",
   "execution_count": 35,
   "metadata": {},
   "outputs": [
    {
     "name": "stdout",
     "output_type": "stream",
     "text": [
      "Elastic Regressor's best param : {'alpha': 0.0001}\n",
      "Elastic Regressor's best score : -0.004289013309419086\n"
     ]
    }
   ],
   "source": [
    "# Elastic Net Regression\n",
    "from sklearn.linear_model import ElasticNet\n",
    "\n",
    "elastic = ElasticNet() # Create ElasticNet model\n",
    "\n",
    "param_elastic = {'alpha' : [1e-15, 1e-10, 1e-8, 1e-4, 1e-3, 1e-2, 1, 5, 10, 20]} # define parameter for finding best parameter\n",
    "\n",
    "# create GridSearchCV model using elasticNet model\n",
    "# find best accuracy and parameter using parameter list.\n",
    "# use cross validation & the number of folds is 10.\n",
    "elastic_R = GridSearchCV(elastic, param_elastic, scoring='neg_mean_squared_error', cv=10)\n",
    "elastic_R.fit(data,label)\n",
    "print(\"Elastic Regressor's best param :\",elastic_R.best_params_) # best parameters with the highest score\n",
    "print(\"Elastic Regressor's best score :\",elastic_R.best_score_)"
   ]
  },
  {
   "cell_type": "code",
   "execution_count": 36,
   "metadata": {},
   "outputs": [
    {
     "data": {
      "image/png": "[encoded data removed]",
      "text/plain": [
       "<Figure size 432x288 with 1 Axes>"
      ]
     },
     "metadata": {},
     "output_type": "display_data"
    }
   ],
   "source": [
    "# Compare accuracy between models\n",
    "import matplotlib.pyplot as plt\n",
    "\n",
    "models = ['Linear', 'Ridge', 'Lasso', 'ElasticNet']\n",
    "accu_list = []\n",
    "accu_list.append(linear_R.best_score_)\n",
    "accu_list.append(ridge_R.best_score_)\n",
    "accu_list.append(lasso_R.best_score_)\n",
    "accu_list.append(elastic_R.best_score_)\n",
    "\n",
    "plt.bar(models, accu_list)\n",
    "plt.show()"
   ]
  },
  {
   "cell_type": "code",
   "execution_count": null,
   "metadata": {},
   "outputs": [],
   "source": []
  },
  {
   "cell_type": "code",
   "execution_count": null,
   "metadata": {},
   "outputs": [],
   "source": []
  }
 ],
 "metadata": {
  "kernelspec": {
   "display_name": "Python 3",
   "language": "python",
   "name": "python3"
  },
  "language_info": {
   "codemirror_mode": {
    "name": "ipython",
    "version": 3
   },
   "file_extension": ".py",
   "mimetype": "text/x-python",
   "name": "python",
   "nbconvert_exporter": "python",
   "pygments_lexer": "ipython3",
   "version": "3.6.5"
  }
 },
 "nbformat": 4,
 "nbformat_minor": 2
}
