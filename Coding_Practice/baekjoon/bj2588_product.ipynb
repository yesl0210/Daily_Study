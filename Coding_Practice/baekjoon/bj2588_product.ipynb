{
 "cells": [
  {
   "cell_type": "code",
   "execution_count": 18,
   "metadata": {},
   "outputs": [
    {
     "name": "stdout",
     "output_type": "stream",
     "text": [
      "472\n",
      "385\n",
      "2360\n",
      "3776\n",
      "1416\n",
      "181720\n"
     ]
    }
   ],
   "source": [
    "# Beakjoon 2588 - product(Three-digit * Three-digit)\n",
    "# https://www.acmicpc.net/problem/2588\n",
    "# 세자리수 * 세자리수 472 385\n",
    "\n",
    "num1 = int(input())\n",
    "num2 = int(input())\n",
    "total_sum = 0\n",
    "i = 1\n",
    "\n",
    "while (num2 / 10) != 0 : \n",
    "    result = num1 * (int)(num2 % 10)\n",
    "    total_sum += result * i\n",
    "    num2 = num2 // 10\n",
    "    i *= 10\n",
    "    print(result)\n",
    "    \n",
    "print(total_sum)"
   ]
  },
  {
   "cell_type": "code",
   "execution_count": null,
   "metadata": {},
   "outputs": [],
   "source": []
  }
 ],
 "metadata": {
  "kernelspec": {
   "display_name": "Python 3",
   "language": "python",
   "name": "python3"
  },
  "language_info": {
   "codemirror_mode": {
    "name": "ipython",
    "version": 3
   },
   "file_extension": ".py",
   "mimetype": "text/x-python",
   "name": "python",
   "nbconvert_exporter": "python",
   "pygments_lexer": "ipython3",
   "version": "3.6.5"
  }
 },
 "nbformat": 4,
 "nbformat_minor": 2
}
