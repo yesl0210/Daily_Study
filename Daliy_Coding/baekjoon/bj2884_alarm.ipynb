{
 "cells": [
  {
   "cell_type": "code",
   "execution_count": null,
   "metadata": {},
   "outputs": [
    {
     "name": "stdout",
     "output_type": "stream",
     "text": [
      "10 10\n",
      "<class 'str'>\n"
     ]
    }
   ],
   "source": [
    "# Beakjoon 2884 - alarm\n",
    "# https://www.acmicpc.net/problem/2884\n",
    "\n",
    "# 상근 set alarm time to H hour M minutes\n",
    "# The beginning of the day - 0:0, The end of the day - 23:59\n",
    "# 0 <= H <= 23 & 0 <= M <= 59\n",
    "\n",
    "# 여러개의 값 한 번에 입력 받기 -> split 결과를 각각 int 형으로 바꿔줌\n",
    "# input().split()의 결과는 list -> 따라서, int(inpit().split()) 형태로 사용할 수 없음.\n",
    "H, M = map(int, input().split())\n",
    "\n",
    "M -= 45\n",
    "\n",
    "if M < 0 : # hour \n",
    "    H -= 1\n",
    "    M = 60 + M\n",
    "    if H == -1 : H = 23\n",
    "print(H, M)"
   ]
  },
  {
   "cell_type": "code",
   "execution_count": null,
   "metadata": {},
   "outputs": [],
   "source": []
  }
 ],
 "metadata": {
  "kernelspec": {
   "display_name": "Python 3",
   "language": "python",
   "name": "python3"
  },
  "language_info": {
   "codemirror_mode": {
    "name": "ipython",
    "version": 3
   },
   "file_extension": ".py",
   "mimetype": "text/x-python",
   "name": "python",
   "nbconvert_exporter": "python",
   "pygments_lexer": "ipython3",
   "version": "3.6.5"
  }
 },
 "nbformat": 4,
 "nbformat_minor": 2
}
